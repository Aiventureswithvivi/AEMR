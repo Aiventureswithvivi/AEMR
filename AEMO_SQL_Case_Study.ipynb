{
   "cell_type": "code",
   "execution_count": 92,
   "metadata": {},
   "outputs": [],
   "source": [
    "%%capture\n",
    "!pip install ipython-sql sqlalchemy\n",
    "import sqlalchemy\n",
    "sqlalchemy.create_engine(\"sqlite:///AEMR.db\")\n",
    "%load_ext sql\n",
    "%sql sqlite:///AEMR.db"
   ]
  },
  {
   "cell_type": "code",
   "execution_count": 93,
   "metadata": {},
   "outputs": [
    {
     "data": {
      "application/javascript": [
       "require(['notebook/js/codecell'], function (codecell) {\n",
       "    codecell.CodeCell.options_default.highlight_modes['magic_text/x-mssql'] = { 'reg': [/%?%sql/] };\n",
       "    Jupyter.notebook.events.one('kernel_ready.Kernel', function () {\n",
       "        Jupyter.notebook.get_cells().map(function (cell) {\n",
       "            if (cell.cell_type == 'code') { cell.auto_highlight(); }\n",
       "        });\n",
       "    });\n",
       "});\n"
      ],
      "text/plain": [
       "<IPython.core.display.Javascript object>"
      ]
     },
     "metadata": {},
     "output_type": "display_data"
    }
   ],
   "source": [
    "%%js\n",
    "require(['notebook/js/codecell'], function (codecell) {\n",
    "    codecell.CodeCell.options_default.highlight_modes['magic_text/x-mssql'] = { 'reg': [/%?%sql/] };\n",
    "    Jupyter.notebook.events.one('kernel_ready.Kernel', function () {\n",
    "        Jupyter.notebook.get_cells().map(function (cell) {\n",
    "            if (cell.cell_type == 'code') { cell.auto_highlight(); }\n",
    "        });\n",
    "    });\n",
    "});"
   ]
  },
  {
   "cell_type": "markdown",
   "metadata": {
    "tags": [
     "2_min"
    ]
   },
   "source": [
    "<h3 style=\"color:#D4AF37\"> ⚡ Part I. Energy Stability & Market Outages ⚡ </h3>\n",
    "\n",
    "Energy stability is one of the key themes the AEMR management team cares about. To ensure energy security and reliability, AEMR needs to understand the following:\n",
    "<p>\n",
    "<b>\n",
    "\n",
    "<li> What are the most common outage types and how long do they tend to last? \n",
    "<li> How frequently do the outages occur? \n",
    "<li> Are there any energy providers which have more outages than their peers which may be indicative of being unreliable? \n",
    "    \n",
    "<p>\n",
    "\n",
    "<u style=\"color:Maroon\"> Please note that throughout the entire case study, we are interested ONLY in the Outages where Status = Approved. We don't have any interest in Outages that were cancelled or not approved. This means your WHERE Clause will ALWAYS contain the field `Where Status = Approved` </u>"
   ]
  },
  {
   "cell_type": "markdown",
   "metadata": {},
   "source": [
    "<h3 style=\"color:#D4AF37\"> Step 1: Analyzing Outage Events Over 2016 and 2017 </h3> \n",
    "\n",
    "To better understand the patterns and trends in outage events, I utilized SQL to count the number of valid outage events, specifically focusing on those with a status of **Approved**. This analysis spans the periods of 2016 and 2017 and categorizes the outages based on their reasons: **Forced**, **Consequential**, **Scheduled**, and **Opportunistic**."
   ]
  },
  {
   "cell_type": "code",
   "execution_count": 51,
   "metadata": {},
   "outputs": [
    {
     "name": "stdout",
     "output_type": "stream",
     "text": [
      " * sqlite:///AEMR.db\n",
      "(sqlite3.OperationalError) no such table: AEMR_Outage_Table\n",
      "[SQL: SELECT\n",
      "    Outage_Reason,\n",
      "    SUM(CASE WHEN Year = 2016 THEN 1 ELSE 0 END) AS \"2016\",\n",
      "    SUM(CASE WHEN Year = 2017 THEN 1 ELSE 0 END) AS \"2017\",\n",
      "    SUM(1) AS Total_Valid_Outages\n",
      "FROM\n",
      "    AEMR_Outage_Table\n",
      "WHERE\n",
      "    Status = \"Approved\"\n",
      "    AND Year IN (2016, 2017)\n",
      "GROUP BY\n",
      "    Outage_Reason;]\n",
      "(Background on this error at: https://sqlalche.me/e/20/e3q8)\n"
     ]
    }
   ],
   "source": [
    "%%sql\n",
    "SELECT\n",
    "    Outage_Reason,\n",
    "    SUM(CASE WHEN Year = 2016 THEN 1 ELSE 0 END) AS \"2016\",\n",
    "    SUM(CASE WHEN Year = 2017 THEN 1 ELSE 0 END) AS \"2017\",\n",
    "    SUM(1) AS Total_Valid_Outages\n",
    "FROM\n",
    "    AEMR_Outage_Table\n",
    "WHERE\n",
    "    Status = \"Approved\"\n",
    "    AND Year IN (2016, 2017)\n",
    "GROUP BY\n",
    "    Outage_Reason;"
   ]
  },
  {
   "cell_type": "markdown",
   "metadata": {},
   "source": [
    "**Insights:**\n",
    "\n",
    "* Forced Outages: This category had the highest number of incidents in both years, with a notable increase from 2016 to 2017. This suggests that Forced outages were a significant issue and became even more prevalent in 2017.\n",
    "\n",
    "* Scheduled Outages: This type also showed a significant number of incidents, though the number decreased slightly in 2017 compared to 2016. This could reflect better planning or fewer scheduled outages in the latter year.\n",
    "\n",
    "* Consequential and Opportunistic Maintenance: These categories had fewer outages overall, with a slight decrease in the number of Consequential outages from 2016 to 2017. The Opportunistic Maintenance showed a marginal decrease as well."
   ]
  },
  {
   "cell_type": "markdown",
   "metadata": {
    "tags": [
     "3_min"
    ]
   },
   "source": [
    "<h3 style=\"color:#D4AF37\"> Step 2: Analyzing Monthly Outage Trends </h3>\n",
    "\n",
    "In this analysis, my goal was to investigate the monthly distribution of various outage types (Forced, Consequential, Scheduled, and Opportunistic Maintenance (Planned)) over the years 2016 and 2017. By grouping and ordering the outages by year, month, and type, I sought to uncover any patterns or increases in specific outage types over time.\n",
    "\n",
    "**Step i) Summarizing Total Outages by Year and Month**\n",
    "\n",
    "To start, I wrote a SQL query to calculate the total number of outages each month across both 2016 and 2017. This helped establish a high-level view of how outage occurrences fluctuated on a monthly basis.\n",
    "\n",
    "**Why this approach?**\n",
    "\n",
    "* Common Table Expression (CTE): I utilized a CTE (OutageTotals) to first aggregate the outages by year, month, and reason. This allowed me to efficiently organize and filter the data in the subsequent query.\n",
    "\n",
    "* Grouping and Ordering: The final query grouped the results by Outage_Reason, Year, and Month, and ordered the results to identify any noticeable trends or changes in outage types across the two years. This method is particularly useful for spotting whether a specific type of outage was increasing or decreasing month-to-month."
   ]
  },
  {
   "cell_type": "code",
   "execution_count": 54,
   "metadata": {
    "scrolled": true
   },
   "outputs": [
    {
     "name": "stdout",
     "output_type": "stream",
     "text": [
      " * sqlite:///AEMR.db\n",
      "(sqlite3.OperationalError) no such table: AEMR_Outage_Table\n",
      "[SQL: WITH OutageTotals AS (\n",
      "SELECT Year, Month, Outage_Reason, COUNT(EventID) AS Total_Valid_Outages\n",
      "FROM AEMR_Outage_Table\n",
      "WHERE Status = \"Approved\"\n",
      "    AND Year IN (2016, 2017)\n",
      "GROUP BY Year, Month, Outage_Reason\n",
      ")\n",
      "SELECT\n",
      "    Year,\n",
      "    Month,\n",
      "    Outage_Reason,\n",
      "    SUM(Total_Valid_Outages) AS Total_Outages\n",
      "FROM\n",
      "    OutageTotals\n",
      "GROUP BY\n",
      "    Outage_Reason, Year, Month\n",
      "ORDER BY\n",
      "    Outage_Reason, Year, Month DESC, Total_Outages DESC;]\n",
      "(Background on this error at: https://sqlalche.me/e/20/e3q8)\n"
     ]
    }
   ],
   "source": [
    "%%sql\n",
    "WITH OutageTotals AS (\n",
    "SELECT Year, Month, Outage_Reason, COUNT(EventID) AS Total_Valid_Outages\n",
    "FROM AEMR_Outage_Table\n",
    "WHERE Status = \"Approved\"\n",
    "    AND Year IN (2016, 2017)\n",
    "GROUP BY Year, Month, Outage_Reason\n",
    ")\n",
    "SELECT\n",
    "    Year,\n",
    "    Month,\n",
    "    Outage_Reason,\n",
    "    SUM(Total_Valid_Outages) AS Total_Outages\n",
    "FROM\n",
    "    OutageTotals\n",
    "GROUP BY\n",
    "    Outage_Reason, Year, Month\n",
    "ORDER BY\n",
    "    Outage_Reason, Year, Month DESC, Total_Outages DESC;"
   ]
  },
  {
   "cell_type": "markdown",
   "metadata": {},
   "source": [
    "**Insights**\n",
    "\n",
    "The analysis revealed that Forced outages showed the most dramatic increase from 2016 to 2017, particularly in the latter months of the year. The other outage types had more stable trends, with occasional peaks likely related to specific operational events or maintenance schedules. This insight could be valuable for prioritizing further investigation into the causes behind the rise in forced outages. However, frequency is only one part of the picture. The duration of these outages is also critical.\n",
    "\n",
    "In essence, shorter outages are less concerning, but longer outages pose a greater risk to our energy supply. To address this, we need to identify the energy providers responsible for these prolonged outages."
   ]
  },
  {
   "cell_type": "markdown",
   "metadata": {},
   "source": [
    "<h3 style=\"color:#D4AF37\"> Step 3: Calculating Average Outage Duration </h3>\n",
    "\n",
    "In this step, I set out to calculate two critical metrics for each Participant Code and Outage Type across the years 2016 and 2017:\n",
    "\n",
    "1. Total Number of Outage Events\n",
    "2. Average Duration of Outages (in days)\n",
    "\n",
    "My goal was to capture a clear picture of outage occurrences and their durations, focusing only on records where the **Status = Approved**. This analysis provides insight into which participant codes and outage types experienced the most events and how long those outages typically lasted.\n",
    "\n",
    "**Approach and Considerations**\n",
    "\n",
    "* Duration Calculation: To calculate the average duration of outages, I used the difference between Start_Time and End_Time. Given that some dates might be reversed in the dataset, I applied the ABS() function to ensure all duration values are positive. The JULIANDAY() function was instrumental here, as it calculates the difference in days, including fractional parts, allowing for precise duration measurement.\n",
    "\n",
    "* Rounding for Clarity: I rounded the average duration to two decimal places, making comparisons easier and more meaningful. This level of precision ensures that even slight differences in duration are visible, which is important for identifying trends or anomalies.\n",
    "\n",
    "* Grouping and Ordering: The data was grouped by Participant_Code, Outage_Reason, and Year, and then ordered by the total number of outage events in descending order. This method highlights which participants and outage types were most affected, making it easier to spot any significant patterns over the two-year period."
   ]
  },
  {
   "cell_type": "code",
   "execution_count": 57,
   "metadata": {},
   "outputs": [
    {
     "name": "stdout",
     "output_type": "stream",
     "text": [
      " * sqlite:///AEMR.db\n",
      "(sqlite3.OperationalError) no such table: AEMR_Outage_Table\n",
      "[SQL: SELECT Participant_Code, Outage_Reason, Year,\n",
      "    COUNT(*) AS Total_Number_Outage_Events,\n",
      "    ROUND(AVG(ABS(JULIANDAY(End_Time) - JULIANDAY(Start_Time))), 2) AS Average_Outage_Duration_In_Days\n",
      "FROM AEMR_Outage_Table\n",
      "WHERE Year IN (2016, 2017) AND Status = 'Approved'\n",
      "GROUP BY Participant_Code, Outage_Reason, Year\n",
      "ORDER BY Total_Number_Outage_Events DESC;]\n",
      "(Background on this error at: https://sqlalche.me/e/20/e3q8)\n"
     ]
    }
   ],
   "source": [
    "%%sql\n",
    "SELECT Participant_Code, Outage_Reason, Year,\n",
    "    COUNT(*) AS Total_Number_Outage_Events,\n",
    "    ROUND(AVG(ABS(JULIANDAY(End_Time) - JULIANDAY(Start_Time))), 2) AS Average_Outage_Duration_In_Days\n",
    "FROM AEMR_Outage_Table\n",
    "WHERE Year IN (2016, 2017) AND Status = 'Approved'\n",
    "GROUP BY Participant_Code, Outage_Reason, Year\n",
    "ORDER BY Total_Number_Outage_Events DESC;"
   ]
  },
  {
   "cell_type": "markdown",
   "metadata": {},
   "source": [
    "<h3 style=\"color:#D4AF37\"> Step 4. Classifying Participant Risk </h3>\n",
    "\n",
    "The initial analysis pinpointed which participants experience the most frequent outages and which endure the longest downtime. This information is crucial, but the next logical step is to classify these participants based on their reliability, specifically their uptime metrics.\n",
    "\n",
    "**Risk Classification Criteria**\n",
    "\n",
    "To provide a clear and actionable understanding of participant reliability, I classified each participant according to the following risk levels:\n",
    "\n",
    "* High Risk: Participants are, on average, unavailable for more than 24 hours (1 day).\n",
    "* Medium Risk: Participants are, on average, unavailable between 12 and 24 hours.\n",
    "* Low Risk: Participants are, on average, unavailable for less than 12 hours.\n",
    "\n",
    "**Approach to Classification**\n",
    "\n",
    "Given these criteria, I needed to devise a method to categorize each participant's risk level based on their average outage duration. The goal was to incorporate these classifications into our existing dataset, focusing on all approved outage types (Forced, Consequential, Scheduled, Opportunistic) across all participant codes for the years 2016 and 2017.\n",
    "\n",
    "**Why this approach?**\n",
    "\n",
    "* Using a CASE Statement: The CASE statement was the tool of choice here, allowing for the conditional logic required to assign each participant to a specific risk category based on their average outage duration.\n",
    "\n",
    "* Leveraging CTEs for Organization: I utilized a Common Table Expression (CTE) to summarize the outage data by participant, making it easier to apply the risk classification logic in the final query."
   ]
  },
  {
   "cell_type": "code",
   "execution_count": 59,
   "metadata": {},
   "outputs": [
    {
     "name": "stdout",
     "output_type": "stream",
     "text": [
      " * sqlite:///AEMR.db\n",
      "(sqlite3.OperationalError) no such table: AEMR_Outage_Table\n",
      "[SQL: WITH Outage_Summary AS (\n",
      "    SELECT Participant_Code, Outage_Reason, Year,\n",
      "        COUNT(*) AS Total_Number_Outage_Events,\n",
      "        ROUND(AVG(ABS(JULIANDAY(End_Time) - JULIANDAY(Start_Time))), 2) AS Average_Outage_Duration_In_Days\n",
      "    FROM AEMR_Outage_Table\n",
      "    WHERE Year IN (2016, 2017)\n",
      "        AND Status = 'Approved'\n",
      "    GROUP BY Participant_Code, Outage_Reason, Year\n",
      ")\n",
      "SELECT Participant_Code, Outage_Reason, Year, Total_Number_Outage_Events, Average_Outage_Duration_In_Days,\n",
      "    CASE\n",
      "        WHEN Average_Outage_Duration_In_Days > 24 THEN 'High Risk'\n",
      "        WHEN Average_Outage_Duration_In_Days >= 12 AND Average_Outage_Duration_In_Days <= 24 THEN 'Medium Risk'\n",
      "        ELSE 'Low Risk'\n",
      "    END AS Risk_Classification\n",
      "FROM Outage_Summary\n",
      "ORDER BY Average_Outage_Duration_In_Days;]\n",
      "(Background on this error at: https://sqlalche.me/e/20/e3q8)\n"
     ]
    }
   ],
   "source": [
    "%%sql\n",
    "WITH Outage_Summary AS (\n",
    "    SELECT Participant_Code, Outage_Reason, Year,\n",
    "        COUNT(*) AS Total_Number_Outage_Events,\n",
    "        ROUND(AVG(ABS(JULIANDAY(End_Time) - JULIANDAY(Start_Time))), 2) AS Average_Outage_Duration_In_Days\n",
    "    FROM AEMR_Outage_Table\n",
    "    WHERE Year IN (2016, 2017)\n",
    "        AND Status = 'Approved'\n",
    "    GROUP BY Participant_Code, Outage_Reason, Year\n",
    ")\n",
    "SELECT Participant_Code, Outage_Reason, Year, Total_Number_Outage_Events, Average_Outage_Duration_In_Days,\n",
    "    CASE\n",
    "        WHEN Average_Outage_Duration_In_Days > 24 THEN 'High Risk'\n",
    "        WHEN Average_Outage_Duration_In_Days >= 12 AND Average_Outage_Duration_In_Days <= 24 THEN 'Medium Risk'\n",
    "        ELSE 'Low Risk'\n",
    "    END AS Risk_Classification\n",
    "FROM Outage_Summary\n",
    "ORDER BY Average_Outage_Duration_In_Days;"
   ]
  },
  {
   "cell_type": "markdown",
   "metadata": {},
   "source": [
    "<h3 style=\"color:#D4AF37\"> Step 5: Refining Risk Classification with Forced Outages </h3>\n",
    "\n",
    "Given that Consequential, Opportunistic, and Planned outages are often scheduled or expected, they might not pose the same level of risk as Forced outages. Forced outages, being unplanned, are inherently more dangerous to the stability of the electricity grid. Therefore, it makes sense to refine our risk categories to focus specifically on Forced outages.\n",
    "\n",
    "**Introducing Additional Risk Criteria**\n",
    "\n",
    "To better capture the risk posed by these outages, I decided to incorporate two additional criteria into our classification:\n",
    "\n",
    "* Outage Duration: This remains a key factor, as extended outages represent a significant risk.\n",
    "* Total Number of Outage Events: Frequent outages, even if brief, can indicate underlying reliability issues.\n",
    "\n",
    "**Updated Risk Classification Criteria**\n",
    "\n",
    "Based on the above considerations, the new risk categories are as follows:\n",
    "\n",
    "* High Risk: The participant is either unavailable for more than 24 hours (on average) or has more than 20 total outage events.\n",
    "* Medium Risk: The participant is either unavailable between 12 and 24 hours (on average) or has between 10 and 20 total outage events.\n",
    "* Low Risk: The participant is unavailable for less than 12 hours (on average) or has fewer than 10 total outage events.\n",
    "* N/A: If the outage type is not Forced, then it doesn't factor into the risk classification."
   ]
  },
  {
   "cell_type": "code",
   "execution_count": 61,
   "metadata": {},
   "outputs": [
    {
     "name": "stdout",
     "output_type": "stream",
     "text": [
      " * sqlite:///AEMR.db\n",
      "(sqlite3.OperationalError) no such table: AEMR_Outage_Table\n",
      "[SQL: WITH Outage_Summary AS (\n",
      "    SELECT Participant_Code, Outage_Reason, Year,\n",
      "        COUNT(*) AS Total_Number_Outage_Events,\n",
      "        ROUND(AVG(ABS(JULIANDAY(End_Time) - JULIANDAY(Start_Time))), 2) AS Average_Outage_Duration_In_Days\n",
      "    FROM AEMR_Outage_Table\n",
      "    WHERE Year IN (2016, 2017)\n",
      "        AND Status = 'Approved'\n",
      "    GROUP BY Participant_Code, Outage_Reason, Year\n",
      ")\n",
      "SELECT Participant_Code, Outage_Reason, Year, Total_Number_Outage_Events, Average_Outage_Duration_In_Days,\n",
      "    CASE\n",
      "        WHEN Outage_Reason != 'Forced' THEN 'N/A'\n",
      "        WHEN Average_Outage_Duration_In_Days > 24 OR Total_Number_Outage_Events > 20 THEN 'High Risk'\n",
      "        WHEN (Average_Outage_Duration_In_Days >= 12 AND Average_Outage_Duration_In_Days <= 24) OR (Total_Number_Outage_Events >+ 10 AND Total_Number_Outage_Events <= 20) THEN 'Medium Risk'\n",
      "        WHEN Average_Outage_Duration_In_Days < 12 OR Total_Number_Outage_Events <10 THEN 'Low Risk'\n",
      "        ELSE 'Unknown'\n",
      "    END AS Risk_Classification\n",
      "FROM Outage_Summary\n",
      "ORDER BY Average_Outage_Duration_In_Days DESC;]\n",
      "(Background on this error at: https://sqlalche.me/e/20/e3q8)\n"
     ]
    }
   ],
   "source": [
    "%%sql\n",
    "WITH Outage_Summary AS (\n",
    "    SELECT Participant_Code, Outage_Reason, Year,\n",
    "        COUNT(*) AS Total_Number_Outage_Events,\n",
    "        ROUND(AVG(ABS(JULIANDAY(End_Time) - JULIANDAY(Start_Time))), 2) AS Average_Outage_Duration_In_Days\n",
    "    FROM AEMR_Outage_Table\n",
    "    WHERE Year IN (2016, 2017)\n",
    "        AND Status = 'Approved'\n",
    "    GROUP BY Participant_Code, Outage_Reason, Year\n",
    ")\n",
    "SELECT Participant_Code, Outage_Reason, Year, Total_Number_Outage_Events, Average_Outage_Duration_In_Days,\n",
    "    CASE\n",
    "        WHEN Outage_Reason != 'Forced' THEN 'N/A'\n",
    "        WHEN Average_Outage_Duration_In_Days > 24 OR Total_Number_Outage_Events > 20 THEN 'High Risk'\n",
    "        WHEN (Average_Outage_Duration_In_Days >= 12 AND Average_Outage_Duration_In_Days <= 24) OR (Total_Number_Outage_Events >+ 10 AND Total_Number_Outage_Events <= 20) THEN 'Medium Risk'\n",
    "        WHEN Average_Outage_Duration_In_Days < 12 OR Total_Number_Outage_Events <10 THEN 'Low Risk'\n",
    "        ELSE 'Unknown'\n",
    "    END AS Risk_Classification\n",
    "FROM Outage_Summary\n",
    "ORDER BY Average_Outage_Duration_In_Days DESC;"
   ]
  },
  {
   "cell_type": "markdown",
   "metadata": {},
   "source": [
    "<h3 style=\"color:#D4AF37\"> ⚡ Part II. Energy Losses & Market Reliability ⚡ </h3>"
   ]
  },
  {
   "cell_type": "markdown",
   "metadata": {},
   "source": [
    "When an energy provider provides energy to the market, they are making a commitment to the market and saying; “We will supply X amount of energy to the market under a contractual obligation.” However, in a situation where the outages are Forced, the energy provider intended to provide energy but are unable to provide energy and are forced offline. <b style=\"color:Maroon\">If many energy providers are forced offline at the same time it could cause an energy security risk that AEMR needs to mitigate. </b>\n",
    "\n",
    "To ensure this doesn’t happen, the AEMR is interested in exploring the following questions:\n",
    "\n",
    "<li> Of the outage types in 2016 and 2017, what percent were Forced Outage(s)?\n",
    "<li> What was the average duration for a forced outage during both 2016 and 2017? Have we seen an increase in the average duration of forced outages?\n",
    "<li> Which energy providers tended to have the largest number of forced outages?\n",
    "    \n",
    "<p>\n",
    "\n",
    "<b> We'll examine these questions below. </b>\n",
    "    \n",
    "<img src = \"https://media.istockphoto.com/id/1281821795/photo/market-stock-graph-and-information-with-city-light-and-electricity-and-energy-facility-banner.jpg?s=612x612&w=0&k=20&c=RSN5LqeMW28HW10aA190_DWR5YJ5tG2wixHFPBV3uZE=\">"
   ]
  },
  {
   "cell_type": "markdown",
   "metadata": {},
   "source": [
    "<h3 style=\"color:#D4AF37\"> Step 6: Analyzing the Proportion of Forced Outages </h3>\n",
    "\n",
    "Understanding the proportion of forced outages within the overall outage landscape is crucial for assessing grid reliability and identifying any emerging risks. Specifically, I aimed to calculate the percentage of outages that were Forced over the 2016-2017 period and observe whether there were any notable changes in this outage type."
   ]
  },
  {
   "cell_type": "code",
   "execution_count": 65,
   "metadata": {},
   "outputs": [
    {
     "name": "stdout",
     "output_type": "stream",
     "text": [
      " * sqlite:///AEMR.db\n",
      "(sqlite3.OperationalError) no such table: AEMR_Outage_Table\n",
      "[SQL: SELECT\n",
      "    SUM(CASE WHEN Outage_Reason = 'Forced' THEN 1 ELSE 0 END) AS Total_Number_Forced_Outage_Events,\n",
      "    COUNT(*) AS Total_Number_Outages,\n",
      "    (SUM(CASE WHEN Outage_Reason = 'Forced' THEN 1 ELSE 0 END) * 100) / COUNT(*) AS Pct_Outage_Forced\n",
      "FROM AEMR_Outage_Table\n",
      "WHERE Year IN (2016, 2017)\n",
      "    AND Status = 'Approved'\n",
      "GROUP BY Year;]\n",
      "(Background on this error at: https://sqlalche.me/e/20/e3q8)\n"
     ]
    }
   ],
   "source": [
    "%%sql\n",
    "SELECT\n",
    "    SUM(CASE WHEN Outage_Reason = 'Forced' THEN 1 ELSE 0 END) AS Total_Number_Forced_Outage_Events,\n",
    "    COUNT(*) AS Total_Number_Outages,\n",
    "    (SUM(CASE WHEN Outage_Reason = 'Forced' THEN 1 ELSE 0 END) * 100) / COUNT(*) AS Pct_Outage_Forced\n",
    "FROM AEMR_Outage_Table\n",
    "WHERE Year IN (2016, 2017)\n",
    "    AND Status = 'Approved'\n",
    "GROUP BY Year;"
   ]
  },
  {
   "cell_type": "markdown",
   "metadata": {},
   "source": [
    "It's clear to see now that `Forced Outages` are problematic. Not only are they the only outage type that generates financial losses as the Outage is unplanned, it seems there is a number of Energy Participants who have been having a significantly high number of Outages.\n",
    "\n",
    "**What's next?**\n",
    "\n",
    "To address this challenge effectively, we need to conduct a more nuanced analysis by breaking it down into two levels: Macro and Micro. The total reveals the Overall Duration a participant is offline / has lost energy, however, it doesn't reveal how *frequently* this occurs. In other words, if we have one or two very big outages, it might contribute to very large totals.\n",
    "\n",
    "However, perhaps an <b> average </b> can help identify how big these Outages might really be, spread across the year!\n",
    "\n",
    "**Next Steps**\n",
    "\n",
    "Let's shift our focus to the average duration of forced outages to identify the true scale of these disruptions."
   ]
  },
  {
   "cell_type": "markdown",
   "metadata": {},
   "source": [
    "<h3 style=\"color:#D4AF37\"> Step 7: Understanding Outage Impact </h3>\n",
    "\n",
    "My goal is to get a comprehensive view of the impact each participant and facility experiences from outages. I want to focus on three key metrics for each combination of participant_code and facility_code:\n",
    "\n",
    "1. Total Number of Outages: I need to count all approved outage events for each participant and facility to determine how frequently they experience disruptions.\n",
    "2. Total Duration in Days: By summing the duration of each outage, I can evaluate the total offline time for each participant and facility. This is rounded to two decimal places for precision.\n",
    "3. Total Energy Lost: Calculating the sum of energy lost during these outages gives me an idea of the scale of disruption in terms of energy loss."
   ]
  },
  {
   "cell_type": "code",
   "execution_count": 68,
   "metadata": {},
   "outputs": [
    {
     "name": "stdout",
     "output_type": "stream",
     "text": [
      " * sqlite:///AEMR.db\n",
      "(sqlite3.OperationalError) no such table: AEMR_Outage_Table\n",
      "[SQL: SELECT\n",
      "    COUNT(*) AS Total_Number_Outages,\n",
      "    ROUND(SUM(ABS(JULIANDAY(End_Time) - JULIANDAY(Start_Time))), 2) AS Total_Outage_Duration_In_Days,\n",
      "    SUM(Energy_Lost_MW) AS Total_Energy_Lost,\n",
      "    Outage_Reason,\n",
      "    Participant_Code,\n",
      "    Facility_Code,\n",
      "    Year\n",
      "FROM AEMR_Outage_Table\n",
      "WHERE Year IN (2016, 2017)\n",
      "    AND Status = 'Approved'\n",
      "GROUP BY Participant_Code, Facility_Code, Year\n",
      "ORDER BY Total_Energy_Lost DESC, Year DESC;]\n",
      "(Background on this error at: https://sqlalche.me/e/20/e3q8)\n"
     ]
    }
   ],
   "source": [
    "%%sql\n",
    "SELECT\n",
    "    COUNT(*) AS Total_Number_Outages,\n",
    "    ROUND(SUM(ABS(JULIANDAY(End_Time) - JULIANDAY(Start_Time))), 2) AS Total_Outage_Duration_In_Days,\n",
    "    SUM(Energy_Lost_MW) AS Total_Energy_Lost,\n",
    "    Outage_Reason,\n",
    "    Participant_Code,\n",
    "    Facility_Code,\n",
    "    Year\n",
    "FROM AEMR_Outage_Table\n",
    "WHERE Year IN (2016, 2017)\n",
    "    AND Status = 'Approved'\n",
    "GROUP BY Participant_Code, Facility_Code, Year\n",
    "ORDER BY Total_Energy_Lost DESC, Year DESC;"
   ]
  },
  {
   "cell_type": "markdown",
   "metadata": {},
   "source": [
    "<h3 style=\"color:#D4AF37\"> Step 8: Average Duration and Energy Lost </h3>\n",
    "\n",
    "In this part of my analysis, I'm focused on understanding the characteristics of forced outages—those unplanned disruptions that have a significant impact. The objective is to get a clearer picture of the impact of forced outages across different participants and facilities.\n",
    "\n",
    "**Approach:**\n",
    "\n",
    "1. Average Duration in Days: By calculating the average duration of forced outages, I can assess how prolonged these disruptions are on average. This value is rounded to two decimal places for better readability.\n",
    "\n",
    "2. Average Energy Lost: This metric provides insights into the typical amount of energy lost during forced outages, giving an idea of the scale of the impact."
   ]
  },
  {
   "cell_type": "code",
   "execution_count": 70,
   "metadata": {},
   "outputs": [
    {
     "name": "stdout",
     "output_type": "stream",
     "text": [
      " * sqlite:///AEMR.db\n",
      "(sqlite3.OperationalError) no such table: AEMR_Outage_Table\n",
      "[SQL: SELECT\n",
      "    ROUND(AVG(ABS(JULIANDAY(End_Time) - JULIANDAY(Start_Time))), 2) AS Avg_Duration_In_Days,\n",
      "    AVG(Energy_Lost_MW) AS Avg_Energy_Lost,\n",
      "    Outage_Reason,\n",
      "    Participant_Code,\n",
      "    Facility_Code,\n",
      "    Year\n",
      "FROM AEMR_Outage_Table\n",
      "WHERE Year IN (2016, 2017)\n",
      "    AND Status = 'Approved'\n",
      "GROUP BY Participant_Code, Facility_Code, Year\n",
      "ORDER BY Avg_Energy_Lost DESC;]\n",
      "(Background on this error at: https://sqlalche.me/e/20/e3q8)\n"
     ]
    }
   ],
   "source": [
    "%%sql\n",
    "SELECT\n",
    "    ROUND(AVG(ABS(JULIANDAY(End_Time) - JULIANDAY(Start_Time))), 2) AS Avg_Duration_In_Days,\n",
    "    AVG(Energy_Lost_MW) AS Avg_Energy_Lost,\n",
    "    Outage_Reason,\n",
    "    Participant_Code,\n",
    "    Facility_Code,\n",
    "    Year\n",
    "FROM AEMR_Outage_Table\n",
    "WHERE Year IN (2016, 2017)\n",
    "    AND Status = 'Approved'\n",
    "GROUP BY Participant_Code, Facility_Code, Year\n",
    "ORDER BY Avg_Energy_Lost DESC;"
   ]
  },
  {
   "cell_type": "markdown",
   "metadata": {},
   "source": [
    "<h3 style=\"color:#D4AF37\"> Step 9: Analyzing Energy Lost Due to Forced Outages </h3>\n",
    "\n",
    "As part of my analysis, I aimed to understand the financial impact of forced outages by examining two key metrics for each facility and participant over the 2016 and 2017 periods:\n",
    "\n",
    "1. Average Energy Lost: This tells me the typical amount of energy lost during forced outages.\n",
    "2. Total Energy Lost: This gives a cumulative view of energy lost for each facility and participant.\n",
    "Additionally, I wanted to calculate the percentage of energy lost due to forced outages relative to the total energy lost across all facilities.\n",
    "\n",
    "**Approach:**\n",
    "\n",
    "1. Calculating Metrics: I first aggregated the data to find the average and total energy lost for each facility and participant. By focusing specifically on forced outages, I can pinpoint the impact of these unplanned disruptions.\n",
    "\n",
    "2. Percentage Calculation: To get a sense of the relative impact, I calculated the percentage of total energy lost due to forced outages. This involves dividing the total energy lost by each facility and participant by the overall total energy lost and converting this ratio into a percentage.\n",
    "\n",
    "3. Ordering and Limiting Results: By ordering the results by total energy lost in descending order, I can identify which participants and facilities have contributed the most to energy loss due to forced outages. Limiting the results to the top three helps focus on the most significant contributors."
   ]
  },
  {
   "cell_type": "code",
   "execution_count": 72,
   "metadata": {},
   "outputs": [
    {
     "name": "stdout",
     "output_type": "stream",
     "text": [
      " * sqlite:///AEMR.db\n",
      "(sqlite3.OperationalError) no such table: AEMR_Outage_Table\n",
      "[SQL: With CTE1 AS\n",
      "(\n",
      "    SELECT\n",
      "    AVG(Energy_Lost_MW) AS Avg_Energy_Lost,\n",
      "    SUM(Energy_Lost_MW) AS Total_Energy_Lost,\n",
      "    Outage_Reason,\n",
      "    Participant_Code,\n",
      "    Facility_Code,\n",
      "    Year\n",
      "FROM AEMR_Outage_Table\n",
      "WHERE\n",
      "    Status = 'Approved'\n",
      "    AND Outage_Reason = \"Forced\"\n",
      "GROUP BY Outage_Reason, Participant_Code, Facility_Code, Year\n",
      ")\n",
      "SELECT\n",
      "    ROUND(AVG_Energy_Lost, 2) AS Avg_Energy_Lost,\n",
      "    ROUND(Total_Energy_Lost, 2) AS Total_Energy_Lost,\n",
      "    ROUND((Total_Energy_Lost / (SELECT SUM(Total_Energy_Lost) FROM CTE1)) * 100, 2) AS Percentage_Energy_Lost,\n",
      "    Outage_Reason,\n",
      "    Participant_Code,\n",
      "    Facility_Code,\n",
      "    Year\n",
      "FROM CTE1\n",
      "ORDER BY Total_Energy_Lost DESC\n",
      "LIMIT 3;]\n",
      "(Background on this error at: https://sqlalche.me/e/20/e3q8)\n"
     ]
    }
   ],
   "source": [
    "%%sql\n",
    "With CTE1 AS\n",
    "(\n",
    "    SELECT\n",
    "    AVG(Energy_Lost_MW) AS Avg_Energy_Lost,\n",
    "    SUM(Energy_Lost_MW) AS Total_Energy_Lost,\n",
    "    Outage_Reason,\n",
    "    Participant_Code,\n",
    "    Facility_Code,\n",
    "    Year\n",
    "FROM AEMR_Outage_Table\n",
    "WHERE\n",
    "    Status = 'Approved'\n",
    "    AND Outage_Reason = \"Forced\"\n",
    "GROUP BY Outage_Reason, Participant_Code, Facility_Code, Year\n",
    ")\n",
    "SELECT\n",
    "    ROUND(AVG_Energy_Lost, 2) AS Avg_Energy_Lost,\n",
    "    ROUND(Total_Energy_Lost, 2) AS Total_Energy_Lost,\n",
    "    ROUND((Total_Energy_Lost / (SELECT SUM(Total_Energy_Lost) FROM CTE1)) * 100, 2) AS Percentage_Energy_Lost,\n",
    "    Outage_Reason,\n",
    "    Participant_Code,\n",
    "    Facility_Code,\n",
    "    Year\n",
    "FROM CTE1\n",
    "ORDER BY Total_Energy_Lost DESC\n",
    "LIMIT 3;"
   ]
  },
  {
   "cell_type": "markdown",
   "metadata": {},
   "source": [
    "<h3 style=\"color:#D4AF37\"> Step 10: Analyzing Energy Loss for Top Participants </h3>\n",
    "\n",
    "After identifying the top contributors to energy loss—GW, MELK, and Auricon—I wanted to delve deeper into their specific outages. Here’s how I approached it:\n",
    "\n",
    "1. Total Energy Lost: I calculated the total energy lost for each participant and facility across both years.\n",
    "\n",
    "2. Top Outage Reason: For each participant and facility, I identified which Description_Of_Outage contributed the most to the total energy lost. This required ranking the outage descriptions to find the top contributor for each participant and facility.\n",
    "\n",
    "3. Percentage of Energy Loss: I computed the percentage of energy lost due to the top outage reason relative to the overall energy lost for each participant. This helps in understanding the impact of specific outage types."
   ]
  },
  {
   "cell_type": "code",
   "execution_count": 90,
   "metadata": {},
   "outputs": [
    {
     "name": "stdout",
     "output_type": "stream",
     "text": [
      " * sqlite:///AEMR.db\n",
      "(sqlite3.OperationalError) no such table: AEMR_Outage_Table\n",
      "[SQL: WITH TopParticipants AS (\n",
      "    SELECT\n",
      "        Participant_Code,\n",
      "        Facility_Code,\n",
      "        Description_Of_Outage,\n",
      "        SUM(Energy_Lost_MW) AS Total_Energy_Lost,\n",
      "        RANK() OVER(PARTITION BY Participant_Code ORDER BY SUM(Energy_Lost_MW) DESC) AS Rank\n",
      "FROM AEMR_Outage_Table\n",
      "WHERE Participant_Code IN ('GW', 'MELK', 'AURICON')\n",
      "    AND Status = 'Approved'\n",
      "GROUP BY Participant_Code, Facility_Code, Description_Of_Outage\n",
      ")\n",
      "SELECT\n",
      "    Participant_Code,\n",
      "    Facility_Code,\n",
      "    Description_Of_Outage,\n",
      "    ROUND(Total_Energy_Lost, 2) AS Total_Energy_Lost,\n",
      "    ROUND((Total_Energy_Lost / (SELECT SUM(Total_Energy_Lost) FROM TopParticipants)) * 100, 2) AS Percentage_Energy_Lost,\n",
      "    RANK\n",
      "FROM TopParticipants\n",
      "WHERE Rank = 1\n",
      "ORDER BY Participant_Code, Facility_Code;]\n",
      "(Background on this error at: https://sqlalche.me/e/20/e3q8)\n"
     ]
    }
   ],
   "source": [
    "%%sql\n",
    "WITH TopParticipants AS (\n",
    "    SELECT\n",
    "        Participant_Code,\n",
    "        Facility_Code,\n",
    "        Description_Of_Outage,\n",
    "        SUM(Energy_Lost_MW) AS Total_Energy_Lost,\n",
    "        RANK() OVER(PARTITION BY Participant_Code ORDER BY SUM(Energy_Lost_MW) DESC) AS Rank\n",
    "FROM AEMR_Outage_Table\n",
    "WHERE Participant_Code IN ('GW', 'MELK', 'AURICON')\n",
    "    AND Status = 'Approved'\n",
    "GROUP BY Participant_Code, Facility_Code, Description_Of_Outage\n",
    ")\n",
    "SELECT\n",
    "    Participant_Code,\n",
    "    Facility_Code,\n",
    "    Description_Of_Outage,\n",
    "    ROUND(Total_Energy_Lost, 2) AS Total_Energy_Lost,\n",
    "    ROUND((Total_Energy_Lost / (SELECT SUM(Total_Energy_Lost) FROM TopParticipants)) * 100, 2) AS Percentage_Energy_Lost,\n",
    "    RANK\n",
    "FROM TopParticipants\n",
    "WHERE Rank = 1\n",
    "ORDER BY Participant_Code, Facility_Code;"
   ]
  },
  {
   "cell_type": "markdown",
   "metadata": {},
   "source": [
    "<center><h1 style=\"color:#D4AF37\"> ⚡⚡ THAT'S A WRAP ⚡⚡</h1>\n",
    "    \n",
    "<img src = https://www.energymagazine.com.au/wp-content/uploads/2021/05/shutterstock_1888482466-e1620278098312.jpg>\n"
   ]
  },
  {
   "cell_type": "markdown",
   "metadata": {},
   "source": [
    "## Appendix: SQL Cheat Sheet\n",
    "\n",
    "**SELECT**\n",
    "\n",
    "```SQL\n",
    "- SELECT * FROM table_name -- Select all columns from a table\n",
    "- SELECT column_name(s) FROM table_name -- Select some columns from a table\n",
    "- SELECT DISTINCT column_name(s) FROM table_name -- Select only the different values\n",
    "- SELECT column_name(s) FROM table_name -- Select data filtered with the WHERE clause\n",
    "  WHERE condition\n",
    "- SELECT column_name(s) FROM table_name -- Order data by multiple columns. DESC for descending \n",
    "  ORDER BY column_1, column_2 DESC, column_3 ASC -- and ASC (optional) for ascending order\n",
    "```\n",
    "\n",
    "**Operators**\n",
    "- `<` - Less than\n",
    "- `>` - Greater than\n",
    "- `<=` - Less than or equal\n",
    "- `>=` - Greater than or equal\n",
    "- `<>` - Not equal\n",
    "- `=` - Equal\n",
    "- `BETWEEN v1 AND v2` - Between a specified range\n",
    "- `LIKE` - Search pattern. Use `%` as a wildcard. E.g., `%o%` matches \"o\", \"bob\", \"blob\", etc.\n",
    "\n",
    "**Aggregate Functions**\n",
    "- `AVG(column)` - Returns the average value of a column\n",
    "- `COUNT(column)` - Returns the number of rows (without a NULL value) of a column\n",
    "- `MAX(column)` - Returns the maximum value of a column\n",
    "- `MIN(column)` - Returns the minimum value of a column\n",
    "- `SUM(column)` - Returns the sum of a column\n",
    "```SQL\n",
    "SELECT AVG(column_name), MIN(column_name), MAX(column_name) FROM table_name\n",
    "```\n",
    " \n",
    "**Miscellaneous**\n",
    "- `CASE...END` - Used in `SELECT` queries to alter a variable in place. E.g.\n",
    "```SQL\n",
    "SELECT column_name\n",
    "    CASE\n",
    "        WHEN column_name >= 0 THEN 'POSITIVE'\n",
    "        ELSE 'NEGATIVE'\n",
    "    END\n",
    "FROM table\n",
    "```\n",
    "- `AS` - Used to rename a variable. E.g.\n",
    "```SQL\n",
    "SELECT SUM(column_name) AS total_column_name FROM table_name\n",
    "```\n",
    "- `GROUP BY` - Used to group rows that share the same value(s) in particular column(s). It is mostly used along with aggregation functions\n",
    "- `ORDER BY` - Determines the order in which the rows are returned by an SQL query"
   ]
  }
 ],
 "metadata": {
  "c1_recart": "7.18.0-57c20131aabc1dc2a8c675852d80a7da",
  "kernelspec": {
   "display_name": "Python 3 (ipykernel)",
   "language": "python",
   "name": "python3"
  },
  "language_info": {
   "codemirror_mode": {
    "name": "ipython",
    "version": 3
   },
   "file_extension": ".py",
   "mimetype": "text/x-python",
   "name": "python",
   "nbconvert_exporter": "python",
   "pygments_lexer": "ipython3",
   "version": "3.11.7"
  }
 },
 "nbformat": 4,
 "nbformat_minor": 4
}
